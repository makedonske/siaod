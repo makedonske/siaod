{
 "cells": [
  {
   "cell_type": "markdown",
   "id": "aaae60bb-8862-4427-b9f3-0859d6a4fbae",
   "metadata": {},
   "source": [
    "# Лабораторная работа №3\n",
    "### Выполнил студент группы БВТ2004 Пономарева Эмилия\n",
    "## Задание №1\n",
    "Реализовать методы поиска подстроки в строке. Добавить возможность ввода строки и подстроки с клавиатуры. Предусмотреть возможность существования пробела. Реализовать возможность выбора опции чувствительности или нечувствительности к регистру. Оценить время работы каждого алгоритма поиска и сравнить его со временем работы стандартной функции поиска, используемой в выбранном языке программирования."
   ]
  },
  {
   "cell_type": "markdown",
   "id": "f8dc0209-7bd4-4ebd-abde-96a3942c3d38",
   "metadata": {},
   "source": [
    "Алгоритм Кнута-Морриса-Пратта"
   ]
  },
  {
   "cell_type": "code",
   "execution_count": 3,
   "id": "335783de-8ed1-4436-8ac5-c33558b2f261",
   "metadata": {},
   "outputs": [
    {
     "name": "stdin",
     "output_type": "stream",
     "text": [
      "Введите строку:  getSTOPaaaStOpstop\n",
      "Введите подстроку:  StOp\n",
      "Если Вам нужна чувствительность регистра введите - 1, если нет - 0:  1\n"
     ]
    },
    {
     "name": "stdout",
     "output_type": "stream",
     "text": [
      "10\n",
      "Время Алгоритма Кнута-Морриса-Пратта: 0.196500 ms\n",
      "10\n",
      "Результат стандартного поиска: 0.161600 ms\n"
     ]
    }
   ],
   "source": [
    "import time\n",
    "def prefix_function(text):\n",
    "    n = len(text)\n",
    "    pi = [0]*n\n",
    "    for i in range(1, n):\n",
    "        j = pi[i-1]\n",
    "        while j > 0 and text[j] != text [i]:\n",
    "            j = pi[j-1]\n",
    "        if text[i] == text[j]:\n",
    "            j += 1\n",
    "        pi[i] = j\n",
    "    return pi\n",
    "\n",
    "def kmp_search(text, sub_text, start_index=0):\n",
    "    j = 0\n",
    "    pi = prefix_function(sub_text)\n",
    "    for i in range(start_index, len(text)):\n",
    "        while j > 0 and text[i] != sub_text[j]:\n",
    "            j = pi[j-1]\n",
    "        if text[i] == sub_text[j]:\n",
    "            j+=1\n",
    "        if j >= len(sub_text):\n",
    "            return i-j+1\n",
    "    return None\n",
    "\n",
    "text = input('Введите строку: ')\n",
    "sub_text = input('Введите подстроку: ')\n",
    "f=input('Если Вам нужна чувствительность регистра введите - 1, если нет - 0: ')\n",
    "if(f==\"0\"):\n",
    "    text=text.lower()\n",
    "    sub_text=sub_text.lower()\n",
    "start_time = time.perf_counter()\n",
    "print(kmp_search(text, sub_text, 0))\n",
    "print(\"Время Алгоритма Кнута-Морриса-Пратта: {:.6f} ms\".format((time.perf_counter() - start_time) * 1000))\n",
    "\n",
    "start_time = time.perf_counter()\n",
    "print(text.find(sub_text))\n",
    "print(\"Результат стандартного поиска: {:.6f} ms\".format((time.perf_counter() - start_time) * 1000))"
   ]
  },
  {
   "cell_type": "markdown",
   "id": "6f8d349d-a0e1-438b-aba8-8a093a758e1e",
   "metadata": {},
   "source": [
    "Упрощенный алгоритм Бойера-Мура"
   ]
  },
  {
   "cell_type": "code",
   "execution_count": null,
   "id": "0cecfb44-d2c2-4889-95cb-9b80b0034cfb",
   "metadata": {},
   "outputs": [],
   "source": [
    "import time\n",
    "def bmPredCompil(x):\n",
    "    d = {}\n",
    "    lenX = len(x)\n",
    "    for i in range(len(x)):\n",
    "        # сколько символов с правого края до этой буквы\n",
    "        d[ord(x[i])] = lenX - i\n",
    "    return d\n",
    "\n",
    "\n",
    "def boyerMurSearch(s, x):\n",
    "    d = bmPredCompil(x)\n",
    "    # k - проход по s\n",
    "    # j - проход по x\n",
    "    # i - место начала прохода по s\n",
    "    lenX = i = j = k = len(x)\n",
    "    while j > 0 and i<=len(s):\n",
    "     # совпали, двигаемся дальше (от конца к началу)\n",
    "        if s[k-1] == x[j-1]:\n",
    "            k -= 1\n",
    "            j -= 1\n",
    "        # иначе, продвигаемся по строке на d и начинаем с правого конца подстроки снова\n",
    "        else:\n",
    "            i += d[ord(s[i])]\n",
    "            j = lenX\n",
    "            k = i\n",
    "    if j <= 0:# нашли\n",
    "        return k\n",
    "    return None # не нашли\n",
    "\n",
    "text = input('Введите строку: ')\n",
    "sub_text = input('Введите подстроку: ')\n",
    "f=input('Если Вам нужна чувствительность регистра введите - 1, если нет - 0: ')\n",
    "if(f==\"0\"):\n",
    "    text=text.lower()\n",
    "    sub_text=sub_text.lower()\n",
    "start_time = time.perf_counter()\n",
    "print(boyerMurSearch(text, sub_text))\n",
    "print(\"Время Алгоритма Бойера-Мура: --- {:.6f} ms ---\".format((time.perf_counter() - start_time) * 1000))\n",
    "\n",
    "start_time = time.perf_counter()\n",
    "print(text.find(sub_text))\n",
    "print(\"Результат стандартного поиска: --- {:.6f} ms ---\".format((time.perf_counter() - start_time) * 1000))"
   ]
  },
  {
   "cell_type": "markdown",
   "id": "edb29011-cc3a-4bbc-8a27-16b60e35a773",
   "metadata": {},
   "source": [
    "## Задание №2\n",
    "Написать программу, определяющую, является ли данное расположение «решаемым», то есть можно ли из него за конечное число шагов перейти к правильному. Если это возможно, то необходимо найти хотя бы одно решение - последовательность движений, после которой числа будут расположены в правильном порядке."
   ]
  },
  {
   "cell_type": "code",
   "execution_count": null,
   "id": "b91c4687-1a3c-4178-a6c0-6fa9f7ee8204",
   "metadata": {},
   "outputs": [],
   "source": [
    "import math\n",
    "from queue import PriorityQueue\n",
    "\n",
    "N = 4 #размерность игры\n",
    "SOLVED = (1, 2, 3, 4, 5, 6, 7, 8, 9, 10, 11, 12, 13, 14, 15, 0)\n",
    "start = [1, 2, 3, 4, 5, 6, 7, 8, 13, 9, 11, 12, 10, 14, 15, 0]\n",
    "\n",
    "#проверка решаемости позиции\n",
    "def reshenie(mass): \n",
    "    summ=int(0)\n",
    "    for i in range(len(mass)):\n",
    "        for j in range(i, len(mass)):\n",
    "            if mass[i]==0:\n",
    "                summ=summ+math.floor((i+1)/4)\n",
    "            elif mass[i]>mass[j]:\n",
    "                summ += 1\n",
    "    return summ%2==1\n",
    "\n",
    "def moves(position):\n",
    "    blank = position.index(0)\n",
    "    i, j = divmod(blank, N)\n",
    "    offsets = []\n",
    "    if i > 0: offsets.append(-N)     # вниз\n",
    "    if i < N - 1: offsets.append(N)  # вверх\n",
    "    if j > 0: offsets.append(-1)     # вправо\n",
    "    if j < N - 1: offsets.append(1)  # влево\n",
    "    for offset in offsets:\n",
    "        swap = blank + offset\n",
    "        yield tuple(position[swap] if x==blank else position[blank] if x==swap else position[x] for x in range(N*N))\n",
    "\n",
    "class Position:\n",
    "    def __init__(self, position, start_distance):\n",
    "        self.position = position\n",
    "        self.start_distance = start_distance\n",
    "\n",
    "    def __lt__(self, other):\n",
    "        return self.start_distance < other.start_distance\n",
    "\n",
    "if reshenie(start) == 0:\n",
    "    print('Нерешаемая позиция')\n",
    "else:\n",
    "    # картеж\n",
    "    start = tuple(start)\n",
    "    p = Position(start, 0)\n",
    "    # очередь \n",
    "    candidates = PriorityQueue()\n",
    "    candidates.put(p)\n",
    "    # множество \n",
    "    visited = set([p])\n",
    "\n",
    "    came_from = {p.position: None}\n",
    "    \n",
    "    while p.position != SOLVED:\n",
    "        p = candidates.get()\n",
    "        for k in moves(p.position):\n",
    "            if k not in visited:\n",
    "                candidates.put(Position(k, p.start_distance + 1))\n",
    "                came_from[k] = p\n",
    "                visited.add(k)\n",
    "    path = []\n",
    "    prev = p\n",
    "    while p.position != start:\n",
    "        p = came_from[p.position]\n",
    "        number = p.position[prev.position.index(0)]\n",
    "        path.append(number)\n",
    "        prev = p\n",
    "    path.reverse()\n",
    "\n",
    "    print(path)"
   ]
  }
 ],
 "metadata": {
  "kernelspec": {
   "display_name": "Python 3 (ipykernel)",
   "language": "python",
   "name": "python3"
  },
  "language_info": {
   "codemirror_mode": {
    "name": "ipython",
    "version": 3
   },
   "file_extension": ".py",
   "mimetype": "text/x-python",
   "name": "python",
   "nbconvert_exporter": "python",
   "pygments_lexer": "ipython3",
   "version": "3.9.7"
  }
 },
 "nbformat": 4,
 "nbformat_minor": 5
}
