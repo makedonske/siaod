{
 "cells": [
  {
   "cell_type": "markdown",
   "id": "db4b50f0",
   "metadata": {},
   "source": [
    "# Лабораторная работа №3\n",
    "## Выполнил студент группы Пономарева Эмилия БВТ2004"
   ]
  },
  {
   "cell_type": "markdown",
   "id": "annual-symbol",
   "metadata": {},
   "source": [
    "### Оглавление\n",
    "1. [Задание 1](#Задание-№1)\n",
    "2. [Задание 2](#Задание-№2)\n",
    "4. [Вывод](#Вывод)"
   ]
  },
  {
   "cell_type": "markdown",
   "id": "independent-spirit",
   "metadata": {},
   "source": [
    "> Дополнительные модули, использованные при выполнение лабораторной"
   ]
  },
  {
   "cell_type": "code",
   "execution_count": 3,
   "id": "4839be2b",
   "metadata": {},
   "outputs": [],
   "source": [
    "# Необходим при замере скорости выполнения кода\n",
    "from datetime import datetime as t\n",
    "# Нужен для создания словаря в алг. Бойера-Мура\n",
    "from collections import defaultdict"
   ]
  },
  {
   "cell_type": "markdown",
   "id": "inclusive-motorcycle",
   "metadata": {},
   "source": [
    "### Задание №1\n",
    "Реализовать методы поиска подстроки в строке. Добавить возможность ввода строки и подстроки с клавиатуры. Предусмотреть возможность существования пробела. Реализовать возможность выбора опции чувствительности или нечувствительности к регистру. Оценить время работы каждого алгоритма поиска и сравнить его со временем работы стандартной функции поиска, используемой в выбранном языке программирования."
   ]
  },
  {
   "cell_type": "markdown",
   "id": "interracial-communication",
   "metadata": {},
   "source": [
    "#### Алгоритм Кнута-Морриса-Пратта"
   ]
  },
  {
   "cell_type": "code",
   "execution_count": 26,
   "id": "presidential-level",
   "metadata": {},
   "outputs": [],
   "source": [
    "import time\n",
    "def mass_f (txt):\n",
    "    p = [0] * len(txt)\n",
    "    j = 0\n",
    "    i = 1\n",
    "    while i < len(txt):\n",
    "        if txt[j] == txt[i]:\n",
    "            p[i] = j + 1\n",
    "            i += 1\n",
    "            j += 1\n",
    "        else:\n",
    "            if j == 0:\n",
    "                p[i] = 0\n",
    "                i += 1\n",
    "            else:\n",
    "                j = p[j-1]\n",
    "    return p\n",
    "def kmp_search (txt, text, p):\n",
    "    m = len(txt)\n",
    "    n = len(text)\n",
    "    i = 0\n",
    "    j = 0\n",
    "    k = 'образ найден'\n",
    "    while i < n:\n",
    "        if text[i] == txt[j]:\n",
    "            i += 1\n",
    "            j += 1\n",
    "            if j == m:\n",
    "                break\n",
    "        else:\n",
    "            if j > 0:\n",
    "                j = p[j-1]\n",
    "            else:\n",
    "                i += 1\n",
    "    if i == n:\n",
    "        k = 'образ не найден'\n",
    "    return k, i - m"
   ]
  },
  {
   "cell_type": "code",
   "execution_count": null,
   "id": "1efb991b-5bc9-49b7-be67-34e26116abae",
   "metadata": {},
   "outputs": [
    {
     "name": "stdin",
     "output_type": "stream",
     "text": [
      "Введите строку:  lililos lililasi\n",
      "Введите подстроку:  lilila\n",
      "Если Вам нужна чувствительность регистра введите - 1, если нет - 0:  1\n"
     ]
    },
    {
     "name": "stdout",
     "output_type": "stream",
     "text": [
      "('образ найден', 8)\n",
      "Время Алгоритма Кнута-Морриса-Пратта: 0.268100 ms\n",
      "8\n",
      "Результат стандартного поиска: 0.171300 ms\n"
     ]
    }
   ],
   "source": [
    "# проверка алгоритма\n",
    "text = input('Введите строку: ')\n",
    "txt = input('Введите подстроку: ')\n",
    "p = mass_f(txt)\n",
    "f=input('Если Вам нужна чувствительность регистра введите - 1, если нет - 0: ')\n",
    "if(f==\"0\"):\n",
    "    text=text.lower()\n",
    "    sub_text=sub_text.lower()\n",
    "start_time = time.perf_counter()\n",
    "print(kmp_search(txt, text, p))\n",
    "print(\"Время Алгоритма Кнута-Морриса-Пратта: {:.6f} ms\".format((time.perf_counter() - start_time) * 1000))\n",
    "\n",
    "start_time = time.perf_counter()\n",
    "print(text.find(txt))\n",
    "print(\"Результат стандартного поиска: {:.6f} ms\".format((time.perf_counter() - start_time) * 1000))"
   ]
  },
  {
   "cell_type": "markdown",
   "id": "downtown-option",
   "metadata": {},
   "source": [
    "#### Упрощенный алгоритм Бойера-Мура"
   ]
  },
  {
   "cell_type": "code",
   "execution_count": 42,
   "id": "respective-reggae",
   "metadata": {},
   "outputs": [],
   "source": [
    "def tabl_f (txt):\n",
    "    s = set() #уникальные символы \n",
    "    m = len(txt) \n",
    "    d = {} #словарь смещений\n",
    "    for i in range(m-2, -1, -1,): #итерации с препоследнего символа\n",
    "        if txt[i] not in s: #если символ ещё не добавлен в таблицу\n",
    "            d[txt[i]] = m - i -1\n",
    "            s.add(txt[i])\n",
    "    if txt[m-1] not in s: #отдельно формируем последний символ\n",
    "        d[txt[m-1]] = m\n",
    "    d['*'] = m #смещение для прочих символов\n",
    "    return d\n",
    "def bm_search (txt, text, d):\n",
    "    n = len(text)\n",
    "    m = len(txt)\n",
    "    if n >= m:\n",
    "        i = m - 1 #счетчик проверяемого символа в строке\n",
    "        while(i<n):\n",
    "            k = 0\n",
    "            for j in range(m - 1, -1, -1):\n",
    "                if text[i-k] != txt[j]:\n",
    "                    if j == m - 1:\n",
    "                        off = d[text[i]] if d.get(text[i], False) else d['*'] #смещение если не равен последний символ текста\n",
    "                    else:\n",
    "                        off = d[txt[j]] #смещение если не равен последний символ образа\n",
    "                    i += off #смещение счетчика строки\n",
    "                    break\n",
    "                k += 1 #смещение для сравниваемого символа в строке\n",
    "            if j == 0: #если дошли до начала значит все символы совпали\n",
    "                vv = 'образец найден'\n",
    "                break\n",
    "    else:\n",
    "        vv = 'образец не найден'\n",
    "    return i - m + 1"
   ]
  },
  {
   "cell_type": "code",
   "execution_count": 43,
   "id": "18b3fbcc-e35e-4fac-9586-72af2cf6d7b3",
   "metadata": {},
   "outputs": [
    {
     "name": "stdin",
     "output_type": "stream",
     "text": [
      "Введите строку:  lililos lililasi\n",
      "Введите подстроку:  lililas\n",
      "Если Вам нужна чувствительность регистра введите - 1, если нет - 0:  1\n"
     ]
    },
    {
     "name": "stdout",
     "output_type": "stream",
     "text": [
      "8\n",
      "Время Алгоритма Бойера-Мура:0.206900 ms\n",
      "8\n",
      "Результат стандартного поиска:0.129600 ms\n"
     ]
    }
   ],
   "source": [
    "# проверка алгоритма\n",
    "text = input('Введите строку: ')\n",
    "txt = input('Введите подстроку: ')\n",
    "d = tabl_f(txt)\n",
    "f=input('Если Вам нужна чувствительность регистра введите - 1, если нет - 0: ')\n",
    "if(f==\"0\"):\n",
    "    text=text.lower()\n",
    "    sub_text=sub_text.lower()\n",
    "start_time = time.perf_counter()\n",
    "print(bm_search(txt, text, d))\n",
    "print(\"Время Алгоритма Бойера-Мура:{:.6f} ms\".format((time.perf_counter() - start_time) * 1000))\n",
    "\n",
    "start_time = time.perf_counter()\n",
    "print(text.find(txt))\n",
    "print(\"Результат стандартного поиска:{:.6f} ms\".format((time.perf_counter() - start_time) * 1000))"
   ]
  },
  {
   "cell_type": "markdown",
   "id": "hybrid-memorial",
   "metadata": {},
   "source": [
    "### Задание №2\n",
    "Написать программу, определяющую, является ли данное\n",
    "расположение «решаемым», то есть можно ли из него за конечное число\n",
    "шагов перейти к правильному. Если это возможно, то необходимо найти хотя\n",
    "бы одно решение - последовательность движений, после которой числа будут\n",
    "расположены в правильном порядке.\n",
    "#### Входные данные: массив чисел, представляющий собой расстановку в\n",
    "Порядке «слева направо, сверху вниз». Число 0 обозначает пустое поле.\n",
    "Например, массив [1, 2, 3, 4, 5, 6, 7, 8, 9, 10, 11, 12, 13, 14, 15, 0] представляет\n",
    "собой «решенную» позицию элементов.\n",
    "#### Выходные данные: если решения нет, то функция должна вернуть\n",
    "Пустой массив []. Если решение есть, то необходимо представить решение —\n",
    "для каждого шага записывается номер передвигаемого на данном шаге\n",
    "элемента. "
   ]
  },
  {
   "cell_type": "code",
   "execution_count": 44,
   "id": "eleven-generic",
   "metadata": {},
   "outputs": [
    {
     "name": "stdout",
     "output_type": "stream",
     "text": [
      "[15, 14, 10, 13, 9, 10, 14, 15]\n"
     ]
    }
   ],
   "source": [
    "import math\n",
    "from queue import PriorityQueue\n",
    "\n",
    "N = 4 #размерность игры\n",
    "SOLVED = (1, 2, 3, 4, 5, 6, 7, 8, 9, 10, 11, 12, 13, 14, 15, 0)\n",
    "start = [1, 2, 3, 4, 5, 6, 7, 8, 13, 9, 11, 12, 10, 14, 15, 0]\n",
    "\n",
    "#проверка решаемости позиции\n",
    "def reshenie(mass): \n",
    "    summ=int(0)\n",
    "    for i in range(len(mass)):\n",
    "        for j in range(i, len(mass)):\n",
    "            if mass[i]==0:\n",
    "                summ=summ+math.floor((i+1)/4)\n",
    "            elif mass[i]>mass[j]:\n",
    "                summ += 1\n",
    "    return summ%2==1\n",
    "\n",
    "def moves(position):\n",
    "    blank = position.index(0)\n",
    "    i, j = divmod(blank, N)\n",
    "    offsets = []\n",
    "    if i > 0: offsets.append(-N)     # вниз\n",
    "    if i < N - 1: offsets.append(N)  # вверх\n",
    "    if j > 0: offsets.append(-1)     # вправо\n",
    "    if j < N - 1: offsets.append(1)  # влево\n",
    "    for offset in offsets:\n",
    "        swap = blank + offset\n",
    "        yield tuple(position[swap] if x==blank else position[blank] if x==swap else position[x] for x in range(N*N))\n",
    "\n",
    "class Position:\n",
    "    def __init__(self, position, start_distance):\n",
    "        self.position = position\n",
    "        self.start_distance = start_distance\n",
    "\n",
    "    def __lt__(self, other):\n",
    "        return self.start_distance < other.start_distance\n",
    "\n",
    "if reshenie(start) == 0:\n",
    "    print('Нерешаемая позиция')\n",
    "else:\n",
    "    # картеж\n",
    "    start = tuple(start)\n",
    "    p = Position(start, 0)\n",
    "    # очередь \n",
    "    candidates = PriorityQueue()\n",
    "    candidates.put(p)\n",
    "    # множество \n",
    "    visited = set([p])\n",
    "\n",
    "    came_from = {p.position: None}\n",
    "    \n",
    "    while p.position != SOLVED:\n",
    "        p = candidates.get()\n",
    "        for k in moves(p.position):\n",
    "            if k not in visited:\n",
    "                candidates.put(Position(k, p.start_distance + 1))\n",
    "                came_from[k] = p\n",
    "                visited.add(k)\n",
    "    path = []\n",
    "    prev = p\n",
    "    while p.position != start:\n",
    "        p = came_from[p.position]\n",
    "        number = p.position[prev.position.index(0)]\n",
    "        path.append(number)\n",
    "        prev = p\n",
    "    path.reverse()\n",
    "\n",
    "    print(path)"
   ]
  },
  {
   "cell_type": "markdown",
   "id": "arbitrary-amazon",
   "metadata": {},
   "source": [
    "### Вывод"
   ]
  },
  {
   "cell_type": "markdown",
   "id": "71bc58bf",
   "metadata": {},
   "source": []
  }
 ],
 "metadata": {
  "kernelspec": {
   "display_name": "Python 3 (ipykernel)",
   "language": "python",
   "name": "python3"
  },
  "language_info": {
   "codemirror_mode": {
    "name": "ipython",
    "version": 3
   },
   "file_extension": ".py",
   "mimetype": "text/x-python",
   "name": "python",
   "nbconvert_exporter": "python",
   "pygments_lexer": "ipython3",
   "version": "3.9.7"
  }
 },
 "nbformat": 4,
 "nbformat_minor": 5
}
