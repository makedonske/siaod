{
 "cells": [
  {
   "cell_type": "code",
   "execution_count": null,
   "id": "d3f17216-e5bb-4a73-8521-b1c1e2d369c8",
   "metadata": {},
   "outputs": [],
   "source": [
    "Лабораторная работа №1\n",
    "Выполнил студент группы БВТ2004 Пономарева Эмилия\n",
    "Задание №1\n",
    "Вызвать функцию print() и передать туда строку Hello, World!"
   ]
  },
  {
   "cell_type": "code",
   "execution_count": 1,
   "id": "25bf0c8e-c8ee-48a7-b21b-1d4f08b05229",
   "metadata": {},
   "outputs": [
    {
     "name": "stdout",
     "output_type": "stream",
     "text": [
      "Hello, World!\n"
     ]
    }
   ],
   "source": [
    "print(\"Hello, World!\")"
   ]
  },
  {
   "cell_type": "code",
   "execution_count": null,
   "id": "e29f2726-d486-44c1-bb9b-c02f4b8f0968",
   "metadata": {},
   "outputs": [],
   "source": [
    "Задание №2\n",
    "Написать генератор случайных матриц(многомерных), который принимает опциональные параметры\n",
    "m, n, min_limit, max_limit, где m и n указывают размер матрицы,а min_lim и max_lim - минимальное\n",
    "и максимальное значение для генерируемого числа."
   ]
  },
  {
   "cell_type": "code",
   "execution_count": 7,
   "id": "1006d11c-810a-4faf-a443-b12e9ea89579",
   "metadata": {},
   "outputs": [
    {
     "name": "stdout",
     "output_type": "stream",
     "text": [
      "4\n",
      "5\n",
      "1\n",
      "50\n",
      "  25   9  48  18\n",
      "  47  23  18  43\n",
      "  25  10  49  29\n",
      "  20  25  29   8\n",
      "  33  17  17  16\n"
     ]
    }
   ],
   "source": [
    "import random\n",
    "def pretty_matrix(matrix: list[list[int]]):\n",
    "    print('\\n'.join([''.join(['{:4}'.format(elem) for elem in row]) for row in matrix]))\n",
    "\n",
    "def matrix_gen(m: int, n: int, min_limit: int, max_limit: int,):\n",
    "    return [[random.randint(min_limit, max_limit) for y in range(m)] for x in range(n)]\n",
    "user_m = int(input())\n",
    "user_n = int(input())\n",
    "user_min_limit = int(input())\n",
    "user_max_limit = int(input())\n",
    "user_m, user_n, user_min_limit, user_max_limit\n",
    "src_matrix = matrix_gen(user_m, user_n, user_min_limit, user_max_limit)\n",
    "pretty_matrix(src_matrix)"
   ]
  },
  {
   "cell_type": "code",
   "execution_count": 8,
   "id": "9c209763-5b4a-44ad-829d-e1b0ff79db7c",
   "metadata": {},
   "outputs": [
    {
     "ename": "SyntaxError",
     "evalue": "invalid character '№' (U+2116) (Temp/ipykernel_8448/3362533820.py, line 1)",
     "output_type": "error",
     "traceback": [
      "\u001b[1;36m  File \u001b[1;32m\"C:\\Users\\mil12\\AppData\\Local\\Temp/ipykernel_8448/3362533820.py\"\u001b[1;36m, line \u001b[1;32m1\u001b[0m\n\u001b[1;33m    Задание №3\u001b[0m\n\u001b[1;37m            ^\u001b[0m\n\u001b[1;31mSyntaxError\u001b[0m\u001b[1;31m:\u001b[0m invalid character '№' (U+2116)\n"
     ]
    }
   ],
   "source": [
    "Задание №3\n",
    "Реализовать методы сортировки строк числовой матрицы в соответствии с заданием.\n",
    "Оценить время работы каждого алгоритма сортировки и сравнить его со временем стандартной функции сортировки.\n",
    "Испытания проводить на сгенерированных матрицах/"
   ]
  },
  {
   "cell_type": "code",
   "execution_count": 9,
   "id": "f19ff127-2884-4f59-ac40-c5dfff6ce553",
   "metadata": {},
   "outputs": [],
   "source": [
    "import random\n",
    "import time\n",
    "from copy import *"
   ]
  },
  {
   "cell_type": "code",
   "execution_count": 10,
   "id": "d493b634-c86d-4e4e-b708-12c98b1e4b85",
   "metadata": {},
   "outputs": [],
   "source": [
    "# Сортировка с использованием стандартной функции сортировки"
   ]
  },
  {
   "cell_type": "code",
   "execution_count": 19,
   "id": "351a9171-ac8c-4411-89bb-e676980b1bc7",
   "metadata": {},
   "outputs": [
    {
     "name": "stdout",
     "output_type": "stream",
     "text": [
      "- 0.318800 ms -\n",
      "   8  20  25  29\n",
      "   9  18  25  48\n",
      "  10  25  29  49\n",
      "  16  17  17  33\n",
      "  18  23  43  47\n"
     ]
    }
   ],
   "source": [
    "matrix = deepcopy(src_matrix)\n",
    "start_time = time.perf_counter()\n",
    "\n",
    "for row in matrix:\n",
    "    row.sort()\n",
    "    \n",
    "matrix.sort()\n",
    "print(\"- {:.6f} ms -\".format((time.perf_counter() - start_time) * 1000))\n",
    "pretty_matrix(matrix)"
   ]
  },
  {
   "cell_type": "code",
   "execution_count": 12,
   "id": "5de3f96b-2433-4b8d-8a44-17e8bc7d8296",
   "metadata": {},
   "outputs": [],
   "source": [
    "# Сортировка выбором.\n",
    "# Берётся срез массива, в котором минимальный элемент переносят в самый левый угол,\n",
    "# после чего срез уменьшается и цикл повторяется."
   ]
  },
  {
   "cell_type": "code",
   "execution_count": 20,
   "id": "8083a1fc-2097-4e97-85bd-785689b0d789",
   "metadata": {},
   "outputs": [
    {
     "name": "stdout",
     "output_type": "stream",
     "text": [
      "- 0.467700 ms -\n",
      "   8  20  25  29\n",
      "   9  18  25  48\n",
      "  10  25  29  49\n",
      "  16  17  17  33\n",
      "  18  23  43  47\n"
     ]
    }
   ],
   "source": [
    "def selection_sort(values: list):\n",
    "    for x in range(len(values) - 1):\n",
    "        max_val = values[x]\n",
    "        max_index = x\n",
    "        for y in range(x, len(values)):\n",
    "            if max_val > values[y]:\n",
    "                max_val = values[y]\n",
    "                max_index = y\n",
    "        values[x], values[max_index] = values[max_index], values[x]\n",
    "start_time = time.perf_counter()\n",
    "\n",
    "for row in matrix:\n",
    "    selection_sort(row)\n",
    "\n",
    "selection_sort(matrix)\n",
    "\n",
    "print(\"- {:.6f} ms -\".format((time.perf_counter() - start_time) * 1000))\n",
    "pretty_matrix(matrix)"
   ]
  },
  {
   "cell_type": "code",
   "execution_count": null,
   "id": "d36fa0f8-ed2a-4c34-aa1e-44d98fb36411",
   "metadata": {},
   "outputs": [],
   "source": [
    "# Сортировка вставкой.\n",
    "#Делит список на две части, вставляя элементы на их правильные места во ворой части списка, убираяя из первой."
   ]
  },
  {
   "cell_type": "code",
   "execution_count": 22,
   "id": "99a93dfa",
   "metadata": {},
   "outputs": [
    {
     "name": "stdout",
     "output_type": "stream",
     "text": [
      "- 0.532800 ms -\n",
      "   8  20  25  29\n",
      "   9  18  25  48\n",
      "  10  25  29  49\n",
      "  16  17  17  33\n",
      "  18  23  43  47\n"
     ]
    }
   ],
   "source": [
    "matrix = deepcopy(src_matrix)\n",
    "\n",
    "def insertion_sort(values: list):\n",
    "    for i in range(len(values)):\n",
    "        buffer = values[i]\n",
    "        j = i - 1\n",
    "        while buffer < values[j] and j >= 0:\n",
    "            values[j + 1] = values[j]\n",
    "            j -= 1\n",
    "        values[j + 1] = buffer\n",
    "\n",
    "start_time = time.perf_counter()\n",
    "\n",
    "for row in matrix:\n",
    "    insertion_sort(row)\n",
    "    \n",
    "insertion_sort(matrix)\n",
    "\n",
    "print(\"- {:.6f} ms -\".format((time.perf_counter() - start_time) * 1000))\n",
    "pretty_matrix(matrix)"
   ]
  },
  {
   "cell_type": "code",
   "execution_count": null,
   "id": "fbcbd056",
   "metadata": {},
   "outputs": [],
   "source": [
    "# Сортировка обменом или пузырьком"
   ]
  },
  {
   "cell_type": "code",
   "execution_count": 23,
   "id": "35d35fc5",
   "metadata": {},
   "outputs": [
    {
     "name": "stdout",
     "output_type": "stream",
     "text": [
      "- 0.426600 ms -\n",
      "   8  20  25  29\n",
      "   9  18  25  48\n",
      "  10  25  29  49\n",
      "  16  17  17  33\n",
      "  18  23  43  47\n"
     ]
    }
   ],
   "source": [
    "matrix = deepcopy(src_matrix)\n",
    "\n",
    "def bubble_sort(values: list):\n",
    "    for i in range(len(values) - 1):\n",
    "        for j in range(len(values) - 1 - i):\n",
    "            if values[j] > values[j + 1]:\n",
    "                values[j], values[j + 1] = values[j + 1], values[j]\n",
    "\n",
    "start_time = time.perf_counter()\n",
    "                \n",
    "for row in matrix:\n",
    "    bubble_sort(row)\n",
    "    \n",
    "bubble_sort(matrix)\n",
    "\n",
    "print(\"- {:.6f} ms -\".format((time.perf_counter() - start_time) * 1000))\n",
    "pretty_matrix(matrix)"
   ]
  },
  {
   "cell_type": "code",
   "execution_count": null,
   "id": "d2ab32b2",
   "metadata": {},
   "outputs": [],
   "source": [
    "# Сортировка Шелла.\n",
    "#Делим кол-во элементов попалам и через отрезок который получился сравниваем по индексу числа, после ещё на 2 и тд."
   ]
  },
  {
   "cell_type": "code",
   "execution_count": 24,
   "id": "83c12890",
   "metadata": {},
   "outputs": [
    {
     "name": "stdout",
     "output_type": "stream",
     "text": [
      "- 0.587400 ms -\n",
      "   8  20  25  29\n",
      "   9  18  25  48\n",
      "  10  25  29  49\n",
      "  16  17  17  33\n",
      "  18  23  43  47\n"
     ]
    }
   ],
   "source": [
    "matrix = deepcopy(src_matrix)\n",
    "\n",
    "def shell_sort(values: list):\n",
    "    step = len(values) >> 1\n",
    "    while step > 0:\n",
    "        for i in range(step, len(values)):\n",
    "            buffer = values[i]\n",
    "            j = i - step\n",
    "            while buffer < values[j] and j >= 0:\n",
    "                values[j + step] = values[j]\n",
    "                j -= step\n",
    "            values[j + step] = buffer\n",
    "        step = step >> 1\n",
    "\n",
    "start_time = time.perf_counter()\n",
    "\n",
    "for row in matrix:\n",
    "    shell_sort(row)\n",
    "    \n",
    "shell_sort(matrix)\n",
    "\n",
    "print(\"- {:.6f} ms -\".format((time.perf_counter() - start_time) * 1000))\n",
    "pretty_matrix(matrix)"
   ]
  },
  {
   "cell_type": "code",
   "execution_count": null,
   "id": "031f7956",
   "metadata": {},
   "outputs": [],
   "source": [
    "# Быстрая сортировка.\n",
    "# Делит список на две разные части, принимая псеводослучайный элемент и используя его в качестве опоры. Если эл. меньше опоры\n",
    "#- влево, больше - вправо"
   ]
  },
  {
   "cell_type": "code",
   "execution_count": 25,
   "id": "ef51bf25",
   "metadata": {},
   "outputs": [
    {
     "name": "stdout",
     "output_type": "stream",
     "text": [
      "- 0.607900 ms -\n",
      "   9  25  18  48\n",
      "  10  25  29  49\n",
      "  18  23  43  47\n",
      "  16  17  17  33\n",
      "  20   8  29  25\n"
     ]
    }
   ],
   "source": [
    "matrix = deepcopy(src_matrix)\n",
    "\n",
    "def partition(values: list, start: int, end: int) -> int:\n",
    "    a = values[(start + end) >> 1]\n",
    "    i = start\n",
    "    j = end\n",
    "    \n",
    "    while i <= j:\n",
    "        while values[i] < a:\n",
    "            i += 1\n",
    "        while values[j] > a:\n",
    "            j -= 1\n",
    "            \n",
    "        if i <= j:\n",
    "            values[i], values[j] = values[j], values[i]\n",
    "            i += 1\n",
    "            j -= 1\n",
    "        \n",
    "    return j\n",
    "\n",
    "def fast_sort(values: list, start: int, end: int):\n",
    "    a = partition(values, start, end)    \n",
    "    if (a - start > 1):\n",
    "        fast_sort(values, start, a)\n",
    "\n",
    "    if (end - (a + 1) > 1):\n",
    "        fast_sort(values, a + 1, end)\n",
    "        \n",
    "\n",
    "start_time = time.perf_counter()        \n",
    "\n",
    "for row in matrix:\n",
    "    fast_sort(row, 0, len(row) - 1)\n",
    "    \n",
    "fast_sort(matrix, 0, len(matrix) - 1)\n",
    "    \n",
    "print(\"- {:.6f} ms -\".format((time.perf_counter() - start_time) * 1000))\n",
    "pretty_matrix(matrix)"
   ]
  },
  {
   "cell_type": "code",
   "execution_count": null,
   "id": "48c18986",
   "metadata": {},
   "outputs": [],
   "source": [
    "# Турнирная сортировка с многопутевым слиянием."
   ]
  },
  {
   "cell_type": "code",
   "execution_count": 18,
   "id": "26a6ed54",
   "metadata": {},
   "outputs": [
    {
     "name": "stdout",
     "output_type": "stream",
     "text": [
      "--- 0.563800 ms ---\n",
      "   8  20  25  29\n",
      "   9  18  25  48\n",
      "  10  25  29  49\n",
      "  16  17  17  33\n",
      "  18  23  43  47\n"
     ]
    }
   ],
   "source": [
    "from heapq import *\n",
    "\n",
    "matrix = deepcopy(src_matrix)\n",
    "\n",
    "MAX_SIZE = 16\n",
    "\n",
    "def multipath_merge(a: list, b: list) -> list:\n",
    "    result = []\n",
    "    \n",
    "    while len(a) > 0 and len(b) > 0:\n",
    "        if (b[0] < a[0]):\n",
    "            result.append(b.pop(0))\n",
    "        else:\n",
    "            result.append(a.pop(0))\n",
    "            \n",
    "    len_a = len(a)\n",
    "    len_b = len(b)\n",
    "    \n",
    "    if (len_a == 0 and len_b == 0):\n",
    "        return result\n",
    "    \n",
    "    if (len_a > 0):\n",
    "        result += a\n",
    "    else:\n",
    "        result += b\n",
    "                \n",
    "    return result\n",
    "\n",
    "def optimal_tournament_sort(values: list) -> list:\n",
    "    heap = []\n",
    "    \n",
    "    for i in values:\n",
    "        heappush(heap, i)\n",
    "        \n",
    "    for i in range(len(heap)):\n",
    "        values[i] = heappop(heap)\n",
    "    \n",
    "    return values\n",
    "                \n",
    "def bracketize(values: list) -> list:\n",
    "    heap = []\n",
    "    \n",
    "    while len(heap) <= MAX_SIZE:\n",
    "        heappush(heap, values.pop(0))\n",
    "        \n",
    "    winners = []\n",
    "    losers = []\n",
    "    \n",
    "    while len(values) > 0:\n",
    "        if len(winners) == 0:\n",
    "            winners.append(heappop(heap))\n",
    "            \n",
    "        if values[0] > winners[-1]:\n",
    "            heappush(heap, values.pop(0))\n",
    "        else:\n",
    "            losers.append(values.pop(0))\n",
    "            \n",
    "        if len(heap) > 0:\n",
    "            winners.append(heappop(heap))\n",
    "            \n",
    "    while len(heap) > 0:\n",
    "        winners.append(heappop(heap))\n",
    "        \n",
    "    if len(losers) == 0:\n",
    "        return winners\n",
    "    \n",
    "    return multipath_merge(tournament_sort(losers), winners)\n",
    "\n",
    "\n",
    "def tournament_sort(values: list) -> list:\n",
    "    if (len(values) <= MAX_SIZE):\n",
    "        return optimal_tournament_sort(values)\n",
    "    else:\n",
    "        return bracketize(values)\n",
    "\n",
    "start_time = time.perf_counter()\n",
    "\n",
    "for i in range(len(matrix)):\n",
    "    matrix[i] = tournament_sort(matrix[i])\n",
    "    \n",
    "matrix = tournament_sort(matrix)\n",
    "    \n",
    "print(\"--- {:.6f} ms ---\".format((time.perf_counter() - start_time) * 1000))\n",
    "pretty_matrix(matrix)"
   ]
  },
  {
   "cell_type": "code",
   "execution_count": null,
   "id": "0b04d1a9",
   "metadata": {},
   "outputs": [],
   "source": []
  }
 ],
 "metadata": {
  "kernelspec": {
   "display_name": "Python 3 (ipykernel)",
   "language": "python",
   "name": "python3"
  },
  "language_info": {
   "codemirror_mode": {
    "name": "ipython",
    "version": 3
   },
   "file_extension": ".py",
   "mimetype": "text/x-python",
   "name": "python",
   "nbconvert_exporter": "python",
   "pygments_lexer": "ipython3",
   "version": "3.9.7"
  }
 },
 "nbformat": 4,
 "nbformat_minor": 5
}
