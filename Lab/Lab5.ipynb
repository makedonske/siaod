{
 "cells": [
  {
   "cell_type": "markdown",
   "metadata": {
    "id": "WPvB9TcMmKA6"
   },
   "source": [
    "# Лабораторная работа №5\n",
    "# Рекурсия. Фракталы."
   ]
  },
  {
   "cell_type": "markdown",
   "metadata": {
    "id": "96Gi_LEvmSVH"
   },
   "source": [
    "## Выполнил студент группы Пономарева Эмилия Васильевна БВТ2004\n",
    "***"
   ]
  },
  {
   "cell_type": "markdown",
   "metadata": {
    "id": "4clYOyb0mbEv"
   },
   "source": [
    "### Задание:\n",
    "Реализовать генерацию заданного типа фрактала с применением рекурсивных функций.\n",
    "\n",
    "\n",
    "Добавить возможность задания глубины фрактала. \n",
    "\n",
    "\n",
    "Оценить глубину рекурсии. \n",
    "\n",
    "\n",
    "Построить таблицу зависимости времени построения от глубины фрактала."
   ]
  },
  {
   "cell_type": "markdown",
   "metadata": {
    "id": "wDXHbUmMmhRL"
   },
   "source": [
    "### Список фракталов:\n",
    "\n",
    "Кривая Коха\n",
    "| Кривая Гильберта\n",
    "| Кривая Серпинского\n",
    "| Салфетка Серпинского\n",
    "| Ковер Серпинского\n",
    "| Дерево Пифагора "
   ]
  },
  {
   "cell_type": "markdown",
   "metadata": {
    "id": "Wggfn8l7nG72"
   },
   "source": [
    "### Выполнение:"
   ]
  },
  {
   "cell_type": "code",
   "execution_count": 3,
   "metadata": {
    "id": "681a95mZnOSa"
   },
   "outputs": [
    {
     "name": "stdout",
     "output_type": "stream",
     "text": [
      "Введите глубину фрактала: 1\n",
      " 1.1002907752990723 \n"
     ]
    }
   ],
   "source": [
    "# Кривая Коха\n",
    "\n",
    "import turtle\n",
    "import time\n",
    "\n",
    "n = int(input('Введите глубину фрактала: '))\n",
    "def koch_curve(ln, n):\n",
    "    if n == 0:\n",
    "        t.fd(ln)\n",
    "        return\n",
    "    a = ln / 3\n",
    "    koch_curve(a, n - 1)\n",
    "    t.left(60)\n",
    "    koch_curve(a, n - 1)\n",
    "    t.right(120)\n",
    "    koch_curve(a, n - 1)\n",
    "    t.left(60)\n",
    "    koch_curve(a, n - 1)\n",
    "\n",
    "\n",
    "t = turtle.Turtle()\n",
    "t.ht()\n",
    "\n",
    "start_time = time.time()\n",
    "koch_curve(200, n)\n",
    "print(\" %s \" % (time.time() - start_time))\n",
    "\n",
    "turtle.done()"
   ]
  },
  {
   "cell_type": "code",
   "execution_count": 1,
   "metadata": {},
   "outputs": [
    {
     "name": "stdout",
     "output_type": "stream",
     "text": [
      "Введите глубину фрактала: 1\n",
      " 1.0129032135009766 \n"
     ]
    }
   ],
   "source": [
    "# Кривая Гилберта\n",
    "\n",
    "import turtle\n",
    "import time\n",
    "n = int(input('Введите глубину фрактала: '))\n",
    "def hilbert_curve(n, a, ln):\n",
    "    if n == 0:\n",
    "        return\n",
    "    \n",
    "    t.right(a)\n",
    "    hilbert_curve(n-1, -a, ln)\n",
    "  \n",
    "    t.fd(ln)\n",
    "    t.left(a)\n",
    "    hilbert_curve(n-1, a, ln)\n",
    "  \n",
    "    t.fd(ln)\n",
    "    hilbert_curve(n-1, a, ln)\n",
    "  \n",
    "    t.left(a)\n",
    "    t.fd(ln)\n",
    "    hilbert_curve(n-1, -a, ln)\n",
    "    t.right(a)\n",
    "    \n",
    "t = turtle.Turtle()\n",
    "t.ht()\n",
    "    \n",
    "start_time = time.time()\n",
    "hilbert_curve(n, 90, 10)\n",
    "print(\" %s \" % (time.time() - start_time))\n",
    "\n",
    "turtle.done()"
   ]
  },
  {
   "cell_type": "code",
   "execution_count": 1,
   "metadata": {},
   "outputs": [
    {
     "name": "stdout",
     "output_type": "stream",
     "text": [
      "Введите глубину фрактала: 1\n",
      " 3.2796342372894287 \n"
     ]
    }
   ],
   "source": [
    "# Кривая Серпинского\n",
    "\n",
    "import turtle\n",
    "import time\n",
    "n = int(input('Введите глубину фрактала: '))\n",
    "def half_sierpinski_curve(ln, n):\n",
    "    if n == 0:\n",
    "        return\n",
    "    half_sierpinski_curve(ln, n-1)\n",
    "    t.left(45)\n",
    "    t.fd(ln*(2**(0.5)))\n",
    "    t.left(45)\n",
    "    half_sierpinski_curve(ln, n-1)\n",
    "    t.right(90)\n",
    "    t.fd(ln)\n",
    "    t.right(90)\n",
    "    half_sierpinski_curve(ln, n-1)\n",
    "    t.left(45)\n",
    "    t.fd(ln*(2**(0.5)))\n",
    "    t.left(45)\n",
    "    half_sierpinski_curve(ln, n-1)\n",
    "    \n",
    "def sierpinski_curve(ln, n):\n",
    "    half_sierpinski_curve(ln, n)\n",
    "    t.right(90)\n",
    "    t.fd(ln)\n",
    "    t.right(90)\n",
    "    half_sierpinski_curve(ln, n)\n",
    "    t.right(90)\n",
    "    t.fd(ln)\n",
    "    t.right(90)\n",
    "    \n",
    "    \n",
    "t = turtle.Turtle()\n",
    "t.ht()\n",
    "\n",
    "start_time = time.time()\n",
    "sierpinski_curve(10, n)\n",
    "print(\" %s \" % (time.time() - start_time))\n",
    "\n",
    "turtle.done()"
   ]
  },
  {
   "cell_type": "code",
   "execution_count": 1,
   "metadata": {},
   "outputs": [
    {
     "name": "stdout",
     "output_type": "stream",
     "text": [
      "Введите глубину фрактала: 1\n",
      " 1.9694938659667969 \n"
     ]
    }
   ],
   "source": [
    "# Салфетка Серпинского\n",
    "\n",
    "import turtle\n",
    "import time\n",
    "n = int(input('Введите глубину фрактала: '))\n",
    "def sierpinski(ln, n):\n",
    "    if n == 0:\n",
    "        t.stamp()\n",
    "    else:\n",
    "        for i in range(0, 3):\n",
    "            t.fd(ln)\n",
    "            sierpinski(ln/2, n-1)\n",
    "            t.bk(ln)\n",
    "            t.left(120)\n",
    "            \n",
    "            \n",
    "t = turtle.Turtle()\n",
    "\n",
    "t.right(30)\n",
    "t.pu()\n",
    "t.ht()\n",
    "\n",
    "t.shape('triangle')\n",
    "    \n",
    "start_time = time.time()\n",
    "sierpinski(100, n)\n",
    "print(\" %s \" % (time.time() - start_time))\n",
    "\n",
    "turtle.done()"
   ]
  },
  {
   "cell_type": "code",
   "execution_count": 1,
   "metadata": {},
   "outputs": [
    {
     "name": "stdout",
     "output_type": "stream",
     "text": [
      "Введите глубину фрактала: 1\n",
      "12.0921790599823 \n"
     ]
    }
   ],
   "source": [
    "# Ковёр Серпинского\n",
    "\n",
    "import turtle\n",
    "import time\n",
    "n = int(input('Введите глубину фрактала: '))\n",
    "def sierpinski_carpet(n, m):\n",
    "    if n == 0: \n",
    "        t.color('black')\n",
    "        t.begin_fill()\n",
    "        for i in range(4):\n",
    "            t.forward(m)\n",
    "            t.left(90)\n",
    "        t.end_fill()\n",
    "    else:\n",
    "        for i in range(4):\n",
    "            sierpinski_carpet(n-1, m/3)\n",
    "            t.forward(m/3)\n",
    " \n",
    "            sierpinski_carpet(n-1, m/3)\n",
    "            t.forward(m/3)\n",
    " \n",
    "            t.forward(m/3)\n",
    "            t.left(90)\n",
    "\n",
    "        \n",
    "t = turtle.Turtle()\n",
    "t.ht()\n",
    "\n",
    "start_time = time.time()\n",
    "sierpinski_carpet(n, 100)\n",
    "print(\"%s \" % (time.time() - start_time))\n",
    "\n",
    "turtle.done()"
   ]
  },
  {
   "cell_type": "code",
   "execution_count": 1,
   "metadata": {},
   "outputs": [
    {
     "name": "stdout",
     "output_type": "stream",
     "text": [
      "Введите глубину фрактала: 1\n",
      " 5.387935638427734 \n"
     ]
    }
   ],
   "source": [
    "# Дерево Пифагора\n",
    "\n",
    "import turtle\n",
    "import time\n",
    "n = int(input('Введите глубину фрактала: '))\n",
    "def pythagoras_tree(ln, n): \n",
    "    if n <= 0 :  \n",
    "        t.fd(ln) \n",
    "    else:\n",
    "        t.right(135)\n",
    "        t.fd((ln*ln/2)**(0.5))\n",
    "        t.left(90)\n",
    "        pythagoras_tree(((ln*ln/2)**(0.5)), n-1)\n",
    "        t.left(90)\n",
    "        t.fd((ln*ln/2)**(0.5))\n",
    "        t.left(90)\n",
    "        t.fd((ln*ln/2)**(0.5))\n",
    "        t.right(135)\n",
    "        t.fd(ln)\n",
    "        t.right(135)\n",
    "        t.fd((ln*ln/2)**(0.5))\n",
    "        t.left(90)\n",
    "        t.fd((ln*ln/2)**(0.5))\n",
    "        t.left(90)\n",
    "        pythagoras_tree(((ln*ln/2)**(0.5)), n-1)\n",
    "        t.left(90)\n",
    "        t.fd((ln*ln/2)**(0.5))\n",
    "        t.right(135)\n",
    "        \n",
    "def carre(ln, n):\n",
    "    t.fd(ln)\n",
    "    t.left(90)\n",
    "    t.fd(ln)\n",
    "    t.left(90)\n",
    "    pythagoras_tree(ln, n)\n",
    "    t.left(90)\n",
    "    t.fd(ln)\n",
    "       \n",
    "t = turtle.Turtle()\n",
    "t.ht()\n",
    "\n",
    "start_time = time.time()\n",
    "carre(100, n)\n",
    "print(\" %s \" % (time.time() - start_time))\n",
    "\n",
    "turtle.done()"
   ]
  },
  {
   "cell_type": "markdown",
   "metadata": {
    "id": "diOb-K7LnO5a"
   },
   "source": [
    "### Вывод"
   ]
  }
 ],
 "metadata": {
  "colab": {
   "collapsed_sections": [],
   "name": "Lab5.ipynb",
   "provenance": []
  },
  "kernelspec": {
   "display_name": "Python 3 (ipykernel)",
   "language": "python",
   "name": "python3"
  },
  "language_info": {
   "codemirror_mode": {
    "name": "ipython",
    "version": 3
   },
   "file_extension": ".py",
   "mimetype": "text/x-python",
   "name": "python",
   "nbconvert_exporter": "python",
   "pygments_lexer": "ipython3",
   "version": "3.9.7"
  }
 },
 "nbformat": 4,
 "nbformat_minor": 1
}
