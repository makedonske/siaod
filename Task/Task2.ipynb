{
 "cells": [
  {
   "cell_type": "markdown",
   "id": "arctic-stocks",
   "metadata": {},
   "source": [
    "### Задание №1\n",
    "Массив A состоит из целых положительных чисел длин отрезков. Составьте из трех отрезков такой треугольник, чтобы его периметр был максимально возможным. Если невозможно составить треугольник с положительной площадью функция возвращает 0."
   ]
  },
  {
   "cell_type": "code",
   "execution_count": 1,
   "id": "caring-truck",
   "metadata": {},
   "outputs": [
    {
     "name": "stdin",
     "output_type": "stream",
     "text": [
      " 10\n",
      " 1\n",
      " 20\n"
     ]
    },
    {
     "name": "stdout",
     "output_type": "stream",
     "text": [
      "[11, 13, 9, 11, 5, 11, 17, 12, 15, 20]\n",
      "52\n"
     ]
    }
   ],
   "source": [
    "import random\n",
    "def maxP(values: list[int]) -> int:\n",
    "    length = len(values)\n",
    "    if (length < 3):\n",
    "        return 0\n",
    "    values.sort(reverse=True)\n",
    "    for i in range(length - 2):\n",
    "        ch1 = values[i]\n",
    "        ch2 = values[i + 1]\n",
    "        ch3 = values[i + 2]\n",
    "        if (ch2 + ch3 > ch1):\n",
    "            return ch1 + ch2 + ch3\n",
    "\n",
    "    return 0\n",
    "\n",
    "d = int(input())\n",
    "min = int(input())\n",
    "max = int(input())\n",
    "arr = [random.randint(min, max) for i in range(d)]\n",
    "print(arr)\n",
    "print(maxP(arr))"
   ]
  },
  {
   "cell_type": "markdown",
   "id": "maritime-conversation",
   "metadata": {},
   "source": [
    "### Задание №2\n",
    "Дан массив неотрицательных целых чисел nums. Расположите их в таком порядке, чтобы вместе они образовали максимально возможное число. Замечание: Результат может быть очень большим числом, поэтому представьте его как string, а не integer."
   ]
  },
  {
   "cell_type": "code",
   "execution_count": 2,
   "id": "alert-charm",
   "metadata": {},
   "outputs": [
    {
     "name": "stdin",
     "output_type": "stream",
     "text": [
      " 15\n",
      " 1\n",
      " 20\n"
     ]
    },
    {
     "name": "stdout",
     "output_type": "stream",
     "text": [
      "[8, 3, 4, 11, 16, 11, 3, 19, 8, 10, 10, 20, 9, 4, 9]\n",
      "9998864433211111111000\n"
     ]
    }
   ],
   "source": [
    "def maxN (values: list):\n",
    "    str_nums = [str(i) for i in values]\n",
    "    res = ''\n",
    "    for i in range(len(str_nums)):\n",
    "        res = res + str_nums[i]\n",
    "    res = list(res)\n",
    "    res.sort(reverse=True)\n",
    "    return ''.join(res)\n",
    "\n",
    "d = int(input())\n",
    "min = int(input())\n",
    "max = int(input())\n",
    "nums = [random.randint(min, max) for i in range(d)]\n",
    "print(nums)\n",
    "print(maxN(nums))"
   ]
  },
  {
   "cell_type": "markdown",
   "id": "catholic-roots",
   "metadata": {},
   "source": [
    "### Задание №3\n",
    "Дана матрица mat размером m * n, значения целочисленные. Напишите функцию, сортирующую каждую диагональ матрицы по возрастанию и возвращающую получившуюся матрицу."
   ]
  },
  {
   "cell_type": "code",
   "execution_count": 3,
   "id": "cleared-anniversary",
   "metadata": {},
   "outputs": [
    {
     "name": "stdin",
     "output_type": "stream",
     "text": [
      "Введите размер матрицы по горизонтали:  4\n",
      "Введите размер матрицы по вертикали:  4\n"
     ]
    },
    {
     "name": "stdout",
     "output_type": "stream",
     "text": [
      "7 9 8 1\n",
      "3 4 5 9\n",
      "4 6 9 6\n",
      "6 6 3 9\n",
      "\n",
      "9 9 8 1\n",
      "3 9 5 9\n",
      "4 6 7 6\n",
      "6 6 3 4\n"
     ]
    }
   ],
   "source": [
    "n = int(input(\"Введите размер матрицы по горизонтали: \"))\n",
    "m = int(input(\"Введите размер матрицы по вертикали: \"))\n",
    "mat = [[random.randint(1, 9) for c in range(n)] for r in range(m)]\n",
    "for i in mat:\n",
    "    print(*i)\n",
    "\n",
    "for k in range(n - 1):\n",
    "    for i in range(m - k - 1):\n",
    "        if mat[i][i] < mat[i+1][i+1]:\n",
    "            mat[i][i], mat[i+1][i+1] = mat[i+1][i+1], mat[i][i]\n",
    "        j = n - i - 1\n",
    "        if mat[i][j] > mat[i + 1][j - 1]:\n",
    "            mat[i][j], mat[i + 1][j - 1] = mat[i + 1][j - 1], mat[i][j]\n",
    "\n",
    "print()\n",
    "for i in mat:\n",
    "    print(*i)"
   ]
  },
  {
   "cell_type": "code",
   "execution_count": null,
   "id": "92ab98bd-0d98-4204-8f78-0253ee3b99f9",
   "metadata": {},
   "outputs": [],
   "source": []
  }
 ],
 "metadata": {
  "kernelspec": {
   "display_name": "Python 3 (ipykernel)",
   "language": "python",
   "name": "python3"
  },
  "language_info": {
   "codemirror_mode": {
    "name": "ipython",
    "version": 3
   },
   "file_extension": ".py",
   "mimetype": "text/x-python",
   "name": "python",
   "nbconvert_exporter": "python",
   "pygments_lexer": "ipython3",
   "version": "3.9.7"
  }
 },
 "nbformat": 4,
 "nbformat_minor": 5
}
