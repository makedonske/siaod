{
 "cells": [
  {
   "cell_type": "code",
   "execution_count": null,
   "id": "d3f17216-e5bb-4a73-8521-b1c1e2d369c8",
   "metadata": {},
   "outputs": [],
   "source": [
    "Лабораторная работа №1\n",
    "Выполнил студент группы БВТ2004 Пономарева Эмилия\n",
    "Задание №1\n",
    "Вызвать функцию print() и передать туда строку Hello, World!"
   ]
  },
  {
   "cell_type": "code",
   "execution_count": 1,
   "id": "25bf0c8e-c8ee-48a7-b21b-1d4f08b05229",
   "metadata": {},
   "outputs": [
    {
     "name": "stdout",
     "output_type": "stream",
     "text": [
      "Hello, World!\n"
     ]
    }
   ],
   "source": [
    "print(\"Hello, World!\")"
   ]
  },
  {
   "cell_type": "code",
   "execution_count": null,
   "id": "e29f2726-d486-44c1-bb9b-c02f4b8f0968",
   "metadata": {},
   "outputs": [],
   "source": [
    "Задание №2\n",
    "Написать генератор случайных матриц(многомерных), который принимает опциональные параметры\n",
    "m, n, min_limit, max_limit, где m и n указывают размер матрицы,а min_lim и max_lim - минимальное\n",
    "и максимальное значение для генерируемого числа."
   ]
  },
  {
   "cell_type": "code",
   "execution_count": 2,
   "id": "1006d11c-810a-4faf-a443-b12e9ea89579",
   "metadata": {},
   "outputs": [
    {
     "name": "stdin",
     "output_type": "stream",
     "text": [
      "Введите минимальное значение чисел в матрице:  1\n",
      "Введите максимальное значение чисел в матрице:  9\n",
      "Введите размер матрицы (m*n) m: 3\n",
      "Введите размер матрицы (m*n) n: 3\n"
     ]
    },
    {
     "name": "stdout",
     "output_type": "stream",
     "text": [
      "[[2, 6, 2], [5, 9, 1], [8, 9, 9]]\n"
     ]
    }
   ],
   "source": [
    "import random\n",
    "def matrix(n=0, m=0, min_lim=0, max_lim=0):\n",
    "    mat = [[random.randint(min_lim, max_lim) for j in range(n)] for i in range(m)]\n",
    "    for i in range(m):\n",
    "         return mat\n",
    "\n",
    "min_lim = int(input(\"Введите минимальное значение чисел в матрице: \"))\n",
    "max_lim = int(input(\"Введите максимальное значение чисел в матрице: \"))\n",
    "m = int(input(\"Введите размер матрицы (m*n) m:\"))\n",
    "n = int(input(\"Введите размер матрицы (m*n) n:\"))\n",
    "print(matrix(n, m, min_lim, max_lim))"
   ]
  },
  {
   "cell_type": "code",
   "execution_count": null,
   "id": "9c209763-5b4a-44ad-829d-e1b0ff79db7c",
   "metadata": {},
   "outputs": [],
   "source": [
    "Задание №3\n",
    "Реализовать методы сортировки строк числовой матрицы в соответствии с заданием.\n",
    "Оценить время работы каждого алгоритма сортировки и сравнить его со временем стандартной функции сортировки.\n",
    "Испытания проводить на сгенерированных матрицах."
   ]
  },
  {
   "cell_type": "code",
   "execution_count": 3,
   "id": "f19ff127-2884-4f59-ac40-c5dfff6ce553",
   "metadata": {},
   "outputs": [],
   "source": [
    "import random\n",
    "from datetime import datetime\n",
    "import time"
   ]
  },
  {
   "cell_type": "code",
   "execution_count": null,
   "id": "d493b634-c86d-4e4e-b708-12c98b1e4b85",
   "metadata": {},
   "outputs": [],
   "source": [
    "Сортировка А"
   ]
  },
  {
   "cell_type": "code",
   "execution_count": 4,
   "id": "351a9171-ac8c-4411-89bb-e676980b1bc7",
   "metadata": {},
   "outputs": [
    {
     "name": "stdin",
     "output_type": "stream",
     "text": [
      "Введите минимальное значение чисел в матрице:  1\n",
      "Введите максимальное значение чисел в матрице:  9\n",
      "Введите размер матрицы (m*n) m: 3\n",
      "Введите размер матрицы (m*n) n: 3\n"
     ]
    },
    {
     "name": "stdout",
     "output_type": "stream",
     "text": [
      "[[3, 6, 3], [7, 1, 9], [1, 9, 5]]\n",
      "[[1, 5, 9], [1, 7, 9], [3, 3, 6]]\n",
      "0:00:05.014814\n"
     ]
    }
   ],
   "source": [
    "def asort(arr):\n",
    "    for i in range(n):\n",
    "        for j in range(m):\n",
    "            arr[j].sort()\n",
    "        arr.sort()\n",
    "    return arr\n",
    "min_lim = int(input(\"Введите минимальное значение чисел в матрице: \"))\n",
    "max_lim = int(input(\"Введите максимальное значение чисел в матрице: \"))\n",
    "m = int(input(\"Введите размер матрицы (m*n) m:\"))\n",
    "n = int(input(\"Введите размер матрицы (m*n) n:\"))\n",
    "arr=matrix(n,m,min_lim,max_lim)\n",
    "print(arr)\n",
    "\n",
    "start_time = datetime.now()\n",
    "print(asort(arr))\n",
    "time.sleep(5)\n",
    "\n",
    "print((datetime.now() - start_time))\n",
    "asort_time = datetime.now() - start_time"
   ]
  },
  {
   "cell_type": "code",
   "execution_count": null,
   "id": "5de3f96b-2433-4b8d-8a44-17e8bc7d8296",
   "metadata": {},
   "outputs": [],
   "source": [
    "Сортировка В"
   ]
  },
  {
   "cell_type": "code",
   "execution_count": 5,
   "id": "8083a1fc-2097-4e97-85bd-785689b0d789",
   "metadata": {},
   "outputs": [
    {
     "name": "stdout",
     "output_type": "stream",
     "text": [
      "[[1, 5, 9], [1, 7, 9], [3, 3, 6]]\n",
      "0:00:05.010732\n",
      "Сортировка А быстрее на: \n",
      "0:00:00.004082\n"
     ]
    }
   ],
   "source": [
    "def bsort(arr):\n",
    "    for n in range(len(arr)):\n",
    "        i = 0\n",
    "        while i < len(arr[0]) - 1:\n",
    "            j = 0\n",
    "            while j < len(arr[0]) - 1 - i:\n",
    "                if arr[n][j] > arr[n][j + 1]:\n",
    "                    arr[n][j], arr[n][j + 1] = arr[n][j + 1], arr[n][j]\n",
    "                j += 1\n",
    "            i += 1\n",
    "    return arr\n",
    "\n",
    "start_time = datetime.now()\n",
    "print(bsort(arr))\n",
    "time.sleep(5)\n",
    "\n",
    "print((datetime.now() - start_time))\n",
    "bsort_time = datetime.now() - start_time\n",
    "\n",
    "if asort_time>bsort_time:\n",
    "    print(\"Сортировка А быстрее на: \")\n",
    "    pr = asort_time - bsort_time\n",
    "    print(pr)\n",
    "else:\n",
    "    print(\"Сортировка B быстрее на: \")\n",
    "    pr = bsort_time - asort_time\n",
    "    print(pr)"
   ]
  },
  {
   "cell_type": "code",
   "execution_count": null,
   "id": "d36fa0f8-ed2a-4c34-aa1e-44d98fb36411",
   "metadata": {},
   "outputs": [],
   "source": []
  }
 ],
 "metadata": {
  "kernelspec": {
   "display_name": "Python 3 (ipykernel)",
   "language": "python",
   "name": "python3"
  },
  "language_info": {
   "codemirror_mode": {
    "name": "ipython",
    "version": 3
   },
   "file_extension": ".py",
   "mimetype": "text/x-python",
   "name": "python",
   "nbconvert_exporter": "python",
   "pygments_lexer": "ipython3",
   "version": "3.9.7"
  }
 },
 "nbformat": 4,
 "nbformat_minor": 5
}
