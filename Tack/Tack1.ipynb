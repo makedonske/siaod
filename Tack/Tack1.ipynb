{
 "cells": [
  {
   "cell_type": "code",
   "execution_count": null,
   "id": "b598d20f",
   "metadata": {},
   "outputs": [],
   "source": [
    "Таск №1\n",
    "Работу выполнил студент группы БВТ2004 Пономарева Эмилия\n",
    "Задание №1 \n",
    "Массив A состоит из целых положительных чисел длин отрезков. \n",
    "Составьте из трех отрезков такой треугольник, чтобы его периметр был максимально возможным. \n",
    "Если невозможно составить треугольник с положительной площадью функция возвращает 0."
   ]
  },
  {
   "cell_type": "code",
   "execution_count": 2,
   "id": "f6637ced",
   "metadata": {},
   "outputs": [],
   "source": [
    "import random"
   ]
  },
  {
   "cell_type": "code",
   "execution_count": 3,
   "id": "9c5398a5",
   "metadata": {},
   "outputs": [
    {
     "name": "stdout",
     "output_type": "stream",
     "text": [
      "10\n",
      "1\n",
      "20\n",
      "[6, 15, 6, 16, 8, 6, 8, 13, 13, 1]\n",
      "44\n"
     ]
    }
   ],
   "source": [
    "def maxP(values: list[int]) -> int:\n",
    "    length = len(values)\n",
    "    if (length < 3):\n",
    "        return 0\n",
    "    values.sort(reverse=True)\n",
    "    for i in range(length - 2):\n",
    "        ch1 = values[i]\n",
    "        ch2 = values[i + 1]\n",
    "        ch3 = values[i + 2]\n",
    "        if (ch2 + ch3 > ch1):\n",
    "            return ch1 + ch2 + ch3\n",
    "\n",
    "    return 0\n",
    "\n",
    "d = int(input())\n",
    "min = int(input())\n",
    "max = int(input())\n",
    "arr = [random.randint(min, max) for i in range(d)]\n",
    "print(arr)\n",
    "print(maxP(arr))"
   ]
  },
  {
   "cell_type": "code",
   "execution_count": null,
   "id": "1cedc93e",
   "metadata": {},
   "outputs": [],
   "source": [
    "Задание №2\n",
    "Дан массив неотрицательных целых чисел nums. Расположите их в таком порядке, чтобы вместе они образовали максимально\n",
    "возможное число. Замечание: Результат может быть очень большим числом, поэтому представьте его как string, а не integer."
   ]
  },
  {
   "cell_type": "code",
   "execution_count": 4,
   "id": "58241e33",
   "metadata": {},
   "outputs": [
    {
     "name": "stdout",
     "output_type": "stream",
     "text": [
      "15\n",
      "1\n",
      "30\n",
      "[2, 16, 24, 4, 11, 18, 5, 4, 25, 5, 17, 12, 2, 15, 14]\n",
      "876555544442222211111111\n"
     ]
    }
   ],
   "source": [
    "def maxN (values: list):\n",
    "    str_nums = [str(i) for i in values]\n",
    "    res = ''\n",
    "    for i in range(len(str_nums)):\n",
    "        res = res + str_nums[i]\n",
    "    res = list(res)\n",
    "    res.sort(reverse=True)\n",
    "    return ''.join(res)\n",
    "\n",
    "d = int(input())\n",
    "min = int(input())\n",
    "max = int(input())\n",
    "nums = [random.randint(min, max) for i in range(d)]\n",
    "print(nums)\n",
    "print(maxN(nums))"
   ]
  },
  {
   "cell_type": "code",
   "execution_count": null,
   "id": "0c5f5a0e",
   "metadata": {},
   "outputs": [],
   "source": [
    "Задание №3\n",
    "Дана матрица mat размером m * n, значения целочисленные. Напишите функцию, сортирующую каждую диагональ матрицы\n",
    "по возрастанию и возвращающую получившуюся матрицу. Не очень ясно, что в прямоугольной матрице является главной и \n",
    "побочной диагональю, а также не понятно, как мы можем отсортировать диагонали матриц, которые пересекаются на некотором \n",
    "элементе (в таком случае возможно, что для одной из диагоналей сортировка не отработает корректно)."
   ]
  },
  {
   "cell_type": "code",
   "execution_count": 5,
   "id": "d27b5fa8",
   "metadata": {},
   "outputs": [
    {
     "name": "stdout",
     "output_type": "stream",
     "text": [
      "Введите размер матрицы по горизонтали: 4\n",
      "Введите размер матрицы по вертикали: 4\n",
      "1 4 8 2\n",
      "9 6 8 1\n",
      "2 8 4 7\n",
      "7 1 5 5\n",
      "\n",
      "6 4 8 2\n",
      "9 5 7 1\n",
      "2 8 4 7\n",
      "8 1 5 1\n"
     ]
    }
   ],
   "source": [
    "n = int(input(\"Введите размер матрицы по горизонтали: \"))\n",
    "m = int(input(\"Введите размер матрицы по вертикали: \"))\n",
    "mat = [[random.randint(1, 9) for c in range(n)] for r in range(m)]\n",
    "for i in mat:\n",
    "    print(*i)\n",
    "\n",
    "for k in range(n - 1):\n",
    "    for i in range(m - k - 1):\n",
    "        if mat[i][i] < mat[i+1][i+1]:\n",
    "            mat[i][i], mat[i+1][i+1] = mat[i+1][i+1], mat[i][i]\n",
    "        j = n - i - 1\n",
    "        if mat[i][j] > mat[i + 1][j - 1]:\n",
    "            mat[i][j], mat[i + 1][j - 1] = mat[i + 1][j - 1], mat[i][j]\n",
    "\n",
    "print()\n",
    "for i in mat:\n",
    "    print(*i)"
   ]
  },
  {
   "cell_type": "code",
   "execution_count": null,
   "id": "c8266254",
   "metadata": {},
   "outputs": [],
   "source": []
  }
 ],
 "metadata": {
  "kernelspec": {
   "display_name": "Python 3 (ipykernel)",
   "language": "python",
   "name": "python3"
  },
  "language_info": {
   "codemirror_mode": {
    "name": "ipython",
    "version": 3
   },
   "file_extension": ".py",
   "mimetype": "text/x-python",
   "name": "python",
   "nbconvert_exporter": "python",
   "pygments_lexer": "ipython3",
   "version": "3.9.7"
  }
 },
 "nbformat": 4,
 "nbformat_minor": 5
}
