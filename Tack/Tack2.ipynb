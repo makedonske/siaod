{
 "cells": [
  {
   "cell_type": "markdown",
   "id": "c9328724-c71c-423d-ba2f-4d43d1dc69c4",
   "metadata": {
    "tags": []
   },
   "source": [
    "### Выполнил студент группы БВТ2004 Пономарева Эмилия\n",
    "## Задание №1\n",
    "Даны две строки: s1 и s2 с одинаковым размером.\n",
    "Проверьте, может ли некоторая перестановка строки s1 “победить” некоторую перестановку строки s2 или наоборот.\n",
    "Строка x может “победить” строку y (обе имеют размер n), если x[i] >= y[i] (в алфавитном порядке) для всех i от 0 до n-1."
   ]
  },
  {
   "cell_type": "code",
   "execution_count": 1,
   "id": "c23d04dc",
   "metadata": {},
   "outputs": [
    {
     "name": "stdout",
     "output_type": "stream",
     "text": [
      "Введите строку 1: abc\n",
      "Введите строку 2: xya\n",
      "abc xya\n",
      "True\n"
     ]
    }
   ],
   "source": [
    "def lenS(s1: str, s2: str):\n",
    "    s1 = sorted(s1, reverse=True)\n",
    "    s2 = sorted(s2, reverse=True)\n",
    "\n",
    "    if s1 >= s2:\n",
    "        main, sub = s1, s2\n",
    "    else:\n",
    "        main, sub = s2, s1\n",
    "\n",
    "    for i in range(len(main)):\n",
    "        if (main[i] >= sub[i]):\n",
    "            continue\n",
    "        return False\n",
    "    return True\n",
    "\n",
    "a = input(\"Введите строку 1: \")\n",
    "b = input(\"Введите строку 2: \")\n",
    "print(a + ' ' + b)\n",
    "print(lenS(a, b))"
   ]
  },
  {
   "cell_type": "markdown",
   "id": "cc0534b4-c8ad-4c34-aafb-06b13e8fcd0e",
   "metadata": {},
   "source": [
    "## Задание №2\n",
    "Дана строка s, вернуть самую длинную полиндромную подстроку в s."
   ]
  },
  {
   "cell_type": "code",
   "execution_count": 2,
   "id": "f0033e26",
   "metadata": {},
   "outputs": [
    {
     "name": "stdout",
     "output_type": "stream",
     "text": [
      "Введите слово: babad\n",
      "bab\n"
     ]
    }
   ],
   "source": [
    "s = str(input(\"Введите слово: \"))\n",
    "m = \"\"\n",
    "\n",
    "for i in range(len(s)):\n",
    "    for j in range(len(s), i, -1):\n",
    "        if len(m) >= j-i:\n",
    "            break\n",
    "        elif s[i:j] == s[i:j][::-1]:\n",
    "            m = s[i:j]\n",
    "\n",
    "print(m)"
   ]
  },
  {
   "cell_type": "markdown",
   "id": "e85a45c6-d26e-4e62-9e0e-51c781dd805c",
   "metadata": {},
   "source": [
    "## Задание №3\n",
    "Вернуть количество отдельных непустых подстрок текста, которые могут быть записаны как конкатенация некоторой строки с \n",
    "самой собой (т.е. она может быть записана, как a + a, где a - некоторая строка)."
   ]
  },
  {
   "cell_type": "code",
   "execution_count": 3,
   "id": "9ffccef7",
   "metadata": {},
   "outputs": [
    {
     "name": "stdout",
     "output_type": "stream",
     "text": [
      "Введите строку: aabb\n",
      "aabb\n",
      "2\n"
     ]
    }
   ],
   "source": [
    "def Konk(sub:str):\n",
    "    return sub[:len(sub)//2] == sub[len(sub)//2:]\n",
    "\n",
    "def re(s1:str):\n",
    "    count = 0\n",
    "    for i in range(1, len(s1) + 1):\n",
    "        for j in range (len(s1) - i + 1):\n",
    "            if Konk(s1[j:j+i]):\n",
    "                count += 1\n",
    "    return count\n",
    "a = input(\"Введите строку: \")\n",
    "print (a)\n",
    "print(re(a))"
   ]
  },
  {
   "cell_type": "code",
   "execution_count": null,
   "id": "2d509997",
   "metadata": {},
   "outputs": [],
   "source": []
  },
  {
   "cell_type": "code",
   "execution_count": null,
   "id": "ee60612d",
   "metadata": {},
   "outputs": [],
   "source": []
  }
 ],
 "metadata": {
  "kernelspec": {
   "display_name": "Python 3 (ipykernel)",
   "language": "python",
   "name": "python3"
  },
  "language_info": {
   "codemirror_mode": {
    "name": "ipython",
    "version": 3
   },
   "file_extension": ".py",
   "mimetype": "text/x-python",
   "name": "python",
   "nbconvert_exporter": "python",
   "pygments_lexer": "ipython3",
   "version": "3.9.7"
  }
 },
 "nbformat": 4,
 "nbformat_minor": 5
}
